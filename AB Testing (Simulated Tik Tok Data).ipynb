{
 "cells": [
  {
   "cell_type": "markdown",
   "id": "68c1a0c5",
   "metadata": {},
   "source": [
    "Randomized Controlled Trials (aka. A/B tests) are the gold standard of establishing causal inference. RCTs strictly control for the randomization process and ensure equal distributions across covariates before rolling out the treatment. Thus, we can attribute the mean difference between the treatment and control groups to the intervention."
   ]
  },
  {
   "cell_type": "markdown",
   "id": "0b4d8ca5",
   "metadata": {},
   "source": [
    "A/B tests are effective and only rely on mild assumptions, and the most important assumption is the Stable Unit Treatment Value Assumption, SUTVA. It states that the treatment and control units don’t interact with each other; otherwise, the interference leads to biased estimates."
   ]
  },
  {
   "cell_type": "markdown",
   "id": "5da5e674",
   "metadata": {},
   "source": [
    "# Business Scenario"
   ]
  },
  {
   "cell_type": "markdown",
   "id": "42de0a5a",
   "metadata": {},
   "source": [
    "A/B tests are effective and only rely on mild assumptions, and the most important assumption is the Stable Unit Treatment Value Assumption, SUTVA. It states that the treatment and control units don’t interact with each other; otherwise, the interference leads to biased estimates."
   ]
  },
  {
   "cell_type": "markdown",
   "id": "c2de8a74",
   "metadata": {},
   "source": [
    "TikTok develops a new animal filter and wants to assess its effects on users. They are interested in two key metrics:\n",
    "\n",
    "1. How does the filter affect user engagement (e.g., time spent on the app)?\n",
    "2. How does the filter affect user retention (e.g., active)?"
   ]
  },
  {
   "cell_type": "markdown",
   "id": "6ff1ec0e",
   "metadata": {},
   "source": [
    "### Current Constraints"
   ]
  },
  {
   "cell_type": "markdown",
   "id": "ff1a8af4",
   "metadata": {},
   "source": [
    "1. First, TikTok has no prior knowledge of its performance and prefers a small-scale study with minimal exposure. This is the desired approach because they can end the test promptly if the key metrics plummet (e.g., zero conversation rate in the treatment group).\n",
    "2. It is an urgent issue in a timely manner, and TikTok wants an answer within two weeks."
   ]
  },
  {
   "cell_type": "markdown",
   "id": "c1fc4226",
   "metadata": {},
   "source": [
    "### Stage 1 Pre-Test: Goal, Metrics, and Sample Size"
   ]
  },
  {
   "cell_type": "markdown",
   "id": "c8623a2a",
   "metadata": {},
   "source": [
    "- What is the goal of the test?\n",
    "\n",
    "- How to measure success?\n",
    "\n",
    "- How long should we run it?"
   ]
  },
  {
   "cell_type": "markdown",
   "id": "1ca90f02",
   "metadata": {},
   "source": [
    "Defining Goal: As a first step, we want to clarify the goal of the test and relay it back to the team. As mentioned, the study aims to measure user engagement and retention after rolling out the filter.\n",
    "\n",
    "Measuring Success: Next, we move to the metrics and decide how to measure the success. As a social networking app, we adopt the time spent on the app to measure user engagement and two boolean variables, metric 1 and metric 2, indicating if the user is active after 1 day and 7 days, respectively.\n",
    "\n",
    "Running the test:  How long should we run the test? A common strategy is to stop the experiment once we observe a statistically significant result (e.g., a small p-value) but this (p-hacking) is strongly opposed as it leads to biased results and false positives\n",
    "\n",
    "Instead, we should run a power analysis and decide a minimum sample size, according to three parameters:\n",
    "\n",
    "1. The Significane Level (or alpha)\n",
    "2. Statistical Power\n",
    "3. The Minimum Detectable effect (MDE)"
   ]
  },
  {
   "cell_type": "markdown",
   "id": "a296bc6c",
   "metadata": {},
   "source": [
    "1. The Significance Level, also denoted as alpha or α: the probability of rejecting a null hypothesis when it is true. By rejecting a true null hypothesis, we falsely claim there is an effect when there is no actual effect. Thus, it is also called the probability of False Positive (Type 1 Error)\n",
    "\n",
    "\n",
    "2. Statistical Power: the probability of correctly identifying the effect when there is indeed an effect. Power = 1 — (False Negative or Type II Error)\n",
    "\n",
    "\n",
    "3. The Minimum Detectable Effect (MDE): to find a widely agreed upon MDE, our data team sits down with the PM and decides the smallest acceptable difference is 0.1. In other words, the difference between the two groups scaled by the standard deviation needs to be at least 0.1. Otherwise, the release won’t compensate for the business costs incurred (e.g., engineers’ time, product lifecycle, etc.). For example, it won’t make any sense to roll out a new design if it only brings in a 0.000001% lift, even if it is statistically significant."
   ]
  },
  {
   "cell_type": "markdown",
   "id": "be05410d",
   "metadata": {},
   "source": [
    "- Type I error is a ‘false positive,’ or the rejection of a true null hypothesis\n",
    "- Type II error is a ‘false negative,’ or the failure to reject a true null hypothesis"
   ]
  },
  {
   "cell_type": "markdown",
   "id": "f1ac6c90",
   "metadata": {},
   "source": [
    "Here is the bi-relationship between these three parameters and the required sample size:\n",
    "\n",
    "Significance Level decreases → Larger Sample Size\n",
    "Statistical Power increases → Larger Sample Size\n",
    "The Minimum Detectable Effect decreases → Larger Sample Size"
   ]
  },
  {
   "attachments": {
    "image.png": {
     "image/png": "[encoded data removed]"
    }
   },
   "cell_type": "markdown",
   "id": "356bbac1",
   "metadata": {},
   "source": [
    "Typically, we set the significance level at 5% (or alpha = 5%) and statistical power at 80%. Thus, the sample size is calculated by the following formula:\n",
    "\n",
    "![image.png](attachment:image.png)\n",
    "\n",
    "where:\n",
    "\n",
    "σ²: sample variance\n",
    "\n",
    "𝛿: the difference between the treatment and control groups (in percentage)\n",
    "\n",
    "\n",
    "To obtain the sample variance (σ²), we typically run an A/A test that follows the same design thinking as an A/B test except assigning the same treatment to both groups.\n",
    "\n",
    "What is an A/A test: Splitting the users into two groups and then assign the same treatment to both."
   ]
  },
  {
   "cell_type": "markdown",
   "id": "4b53bc2a",
   "metadata": {},
   "source": [
    "### Calculating Sample Size"
   ]
  },
  {
   "cell_type": "code",
   "execution_count": 4,
   "id": "16b649ef",
   "metadata": {},
   "outputs": [
    {
     "name": "stdout",
     "output_type": "stream",
     "text": [
      "Sample Size: 1571\n"
     ]
    }
   ],
   "source": [
    "from statsmodels.stats.power import TTestIndPower\n",
    "\n",
    "# parameters for power analysis \n",
    "# effect_size has to be positive\n",
    "\n",
    "\n",
    "alpha = 0.05\n",
    "power = 0.8\n",
    "effect = 0.1\n",
    "\n",
    "# perform power analysis \n",
    "\n",
    "analysis = TTestIndPower()\n",
    "result = analysis.solve_power(effect, power = power,nobs1= None, ratio = 1.0, alpha = alpha)\n",
    "print('Sample Size: %.0f' % round(result))"
   ]
  },
  {
   "cell_type": "markdown",
   "id": "6ff37360",
   "metadata": {},
   "source": [
    "We need 1571 for each variant. In terms of how long we should run the test, it depends on how much traffic the app receives. Then, we divide the daily traffic equally into these two variants and wait until collecting a sufficiently large sample size (≥1571)."
   ]
  },
  {
   "cell_type": "markdown",
   "id": "a9340647",
   "metadata": {},
   "source": [
    "As noted, TikTok is a tremendously popular app and has millions of DAUs. However, we are specifically targeting users who try out the new filters. Furthermore, the minimal exposure approach may take a few days to collect enough observations for the experiment."
   ]
  },
  {
   "cell_type": "markdown",
   "id": "ba258e76",
   "metadata": {},
   "source": [
    "**Best Practices**\n",
    "\n",
    "- Understand the goal of the experiment and how to measure the success\n",
    "- Run an A/A test to estimate the variance of the metric\n",
    "- Run a power analysis to obtain the minimum sample size."
   ]
  },
  {
   "cell_type": "markdown",
   "id": "4d7e0736",
   "metadata": {},
   "source": [
    "### Stage 2 During-Test: Data Collection"
   ]
  },
  {
   "cell_type": "markdown",
   "id": "d38f08e6",
   "metadata": {},
   "source": [
    "We roll out the test and initiate the data collection process. Here, we simulate the Data Generation Process (DGP) and artificially create variables that follow specific distributions. The true parameters are known to us, which comes in handy when comparing the estimated treatment effect to the true effects. In other words, we can evaluate the effectiveness of A/B tests and check to what extent they lead to unbiased results."
   ]
  },
  {
   "cell_type": "markdown",
   "id": "e41ed835",
   "metadata": {},
   "source": [
    "There are five variables to be simulated in our case study:\n",
    "\n",
    "1. userid\n",
    "2. version\n",
    "3. minutes of plays\n",
    "4. user engagement after 1 day (metric_1)\n",
    "5. user engagement after 7 days (metric_2)"
   ]
  },
  {
   "cell_type": "markdown",
   "id": "a769ffe0",
   "metadata": {},
   "source": [
    "#### Variables 1 and 2: userid and version\n",
    "\n",
    "We intentionally create 1600 control units and 1749 treated units to signal a potential Sample Ratio Mismatch (SRM)"
   ]
  },
  {
   "cell_type": "code",
   "execution_count": 9,
   "id": "436c863d",
   "metadata": {},
   "outputs": [],
   "source": [
    "import numpy as np\n",
    "\n",
    "# variable 1: userid\n",
    "user_id_control = list(range(1,1601))# 1600 control\n",
    "user_id_treatment = list(range(1601,3350))# 1749 treated\n",
    "\n",
    "# variable 2: version \n",
    "control_status = ['control']*1600\n",
    "treatment_status = ['treatment']*1749"
   ]
  },
  {
   "cell_type": "markdown",
   "id": "6c1f4799",
   "metadata": {},
   "source": [
    "#### Variable 3: minutes of plays\n",
    "\n",
    "We simulate variable 3 (“minutes of plays”) as a normal distribution with a μ of 30 minutes and σ² of 10. In specific, the mean for the control group is 30 minutes, and the variance is 10."
   ]
  },
  {
   "cell_type": "markdown",
   "id": "49245979",
   "metadata": {},
   "source": [
    "To recap, the effect parameter to the MDE is calculated as the difference between the two groups divided by the standard deviation (μ_1 — μ_2)/σ_squared = 0.1. According to the formula, we obtain μ_2 = 31. The variance is also 10."
   ]
  },
  {
   "cell_type": "code",
   "execution_count": 15,
   "id": "984f7692",
   "metadata": {},
   "outputs": [],
   "source": [
    "# variable 3: minutes of plays, which follows a normal distribution with a μ of 30 minutes and σ² of 10 (central limit theorem)\n",
    "# for control group\n",
    "μ_1 = 30\n",
    "σ_squared_1 = 10\n",
    "np.random.seed(123)\n",
    "minutes_control = np.random.normal(loc = μ_1, scale = σ_squared_1, size = 1600)\n",
    "\n",
    "# for treatment group, which increases the user engagement by \n",
    "# according to the formula (μ_1 — μ_2)/σ_squared = 0.1, we obtain μ_2 = 31\n",
    "\n",
    "μ_2 = 31\n",
    "σ_squared_2 = 10\n",
    "np.random.seed(123)\n",
    "minutes_treat = np.random.normal(loc = μ_2, scale = σ_squared_2, size = 1749)"
   ]
  },
  {
   "cell_type": "markdown",
   "id": "7fbebd02",
   "metadata": {},
   "source": [
    "#### variable 4: user engagement after 1 day, metric_1\n",
    "\n",
    "Our simulation shows that the control group has 30% active (True) and 70% inactive (False) users after 1 day (metric_1), while the treatment has 35% active and 65% inactive users, respectively."
   ]
  },
  {
   "cell_type": "code",
   "execution_count": 16,
   "id": "0a0d97a6",
   "metadata": {},
   "outputs": [],
   "source": [
    "# variable 4 user engagement after 1 day (metric_1)\n",
    "# after day 1, treatment performs better than control --> to simulate novelty effect\n",
    "\n",
    "Active_status = [True,False]\n",
    "\n",
    "# control  \n",
    "day_1_control = np.random.choice(Active_status, 1600, p=[0.3,0.7])\n",
    "\n",
    "# treatment\n",
    "day_1_treatment = np.random.choice(Active_status, 1749, p=[0.35,0.65])"
   ]
  },
  {
   "cell_type": "markdown",
   "id": "5010bd86",
   "metadata": {},
   "source": [
    "#### variable 5: user engagement after 7 day, metric_2\n",
    "\n",
    "The simulation data shows the control group has a 35% active user rate, while the treatment has a 25% after 7 days"
   ]
  },
  {
   "cell_type": "code",
   "execution_count": 17,
   "id": "faf69f8a",
   "metadata": {},
   "outputs": [],
   "source": [
    "# variable 5 user engagement after 7 day (metric_2)\n",
    "# after day 7, control > treatment --> the novelty effect diminishes & performance reversed\n",
    "\n",
    "Active_status = [True,False]\n",
    "\n",
    "# control  \n",
    "day_7_control = np.random.choice(Active_status, 1600, p=[0.35,0.65])\n",
    "\n",
    "# treatment\n",
    "day_7_treatment = np.random.choice(Active_status, 1749, p=[0.25,0.75])"
   ]
  },
  {
   "cell_type": "markdown",
   "id": "b6fde9fe",
   "metadata": {},
   "source": [
    "The true data contains a reversed pattern: the treatment performs better in the short term but the control group comes back and stands out after one week.\n",
    "\n",
    "Let’s check if the A/B test picks up the reversed signa"
   ]
  },
  {
   "cell_type": "code",
   "execution_count": 18,
   "id": "26c63bd9",
   "metadata": {},
   "outputs": [
    {
     "data": {
      "text/html": [
       "<div>\n",
       "<style scoped>\n",
       "    .dataframe tbody tr th:only-of-type {\n",
       "        vertical-align: middle;\n",
       "    }\n",
       "\n",
       "    .dataframe tbody tr th {\n",
       "        vertical-align: top;\n",
       "    }\n",
       "\n",
       "    .dataframe thead th {\n",
       "        text-align: right;\n",
       "    }\n",
       "</style>\n",
       "<table border=\"1\" class=\"dataframe\">\n",
       "  <thead>\n",
       "    <tr style=\"text-align: right;\">\n",
       "      <th></th>\n",
       "      <th>user_id</th>\n",
       "      <th>version</th>\n",
       "      <th>minutes_play</th>\n",
       "      <th>day_1_active</th>\n",
       "      <th>day_7_active</th>\n",
       "    </tr>\n",
       "  </thead>\n",
       "  <tbody>\n",
       "    <tr>\n",
       "      <th>0</th>\n",
       "      <td>1</td>\n",
       "      <td>control</td>\n",
       "      <td>19.143694</td>\n",
       "      <td>False</td>\n",
       "      <td>False</td>\n",
       "    </tr>\n",
       "    <tr>\n",
       "      <th>1</th>\n",
       "      <td>2</td>\n",
       "      <td>control</td>\n",
       "      <td>39.973454</td>\n",
       "      <td>True</td>\n",
       "      <td>True</td>\n",
       "    </tr>\n",
       "    <tr>\n",
       "      <th>2</th>\n",
       "      <td>3</td>\n",
       "      <td>control</td>\n",
       "      <td>32.829785</td>\n",
       "      <td>False</td>\n",
       "      <td>False</td>\n",
       "    </tr>\n",
       "    <tr>\n",
       "      <th>3</th>\n",
       "      <td>4</td>\n",
       "      <td>control</td>\n",
       "      <td>14.937053</td>\n",
       "      <td>False</td>\n",
       "      <td>False</td>\n",
       "    </tr>\n",
       "    <tr>\n",
       "      <th>4</th>\n",
       "      <td>5</td>\n",
       "      <td>control</td>\n",
       "      <td>24.213997</td>\n",
       "      <td>False</td>\n",
       "      <td>False</td>\n",
       "    </tr>\n",
       "    <tr>\n",
       "      <th>...</th>\n",
       "      <td>...</td>\n",
       "      <td>...</td>\n",
       "      <td>...</td>\n",
       "      <td>...</td>\n",
       "      <td>...</td>\n",
       "    </tr>\n",
       "    <tr>\n",
       "      <th>1595</th>\n",
       "      <td>1596</td>\n",
       "      <td>control</td>\n",
       "      <td>27.154466</td>\n",
       "      <td>False</td>\n",
       "      <td>False</td>\n",
       "    </tr>\n",
       "    <tr>\n",
       "      <th>1596</th>\n",
       "      <td>1597</td>\n",
       "      <td>control</td>\n",
       "      <td>46.414042</td>\n",
       "      <td>True</td>\n",
       "      <td>True</td>\n",
       "    </tr>\n",
       "    <tr>\n",
       "      <th>1597</th>\n",
       "      <td>1598</td>\n",
       "      <td>control</td>\n",
       "      <td>41.523560</td>\n",
       "      <td>True</td>\n",
       "      <td>True</td>\n",
       "    </tr>\n",
       "    <tr>\n",
       "      <th>1598</th>\n",
       "      <td>1599</td>\n",
       "      <td>control</td>\n",
       "      <td>23.981909</td>\n",
       "      <td>False</td>\n",
       "      <td>False</td>\n",
       "    </tr>\n",
       "    <tr>\n",
       "      <th>1599</th>\n",
       "      <td>1600</td>\n",
       "      <td>control</td>\n",
       "      <td>17.843379</td>\n",
       "      <td>False</td>\n",
       "      <td>False</td>\n",
       "    </tr>\n",
       "  </tbody>\n",
       "</table>\n",
       "<p>1600 rows × 5 columns</p>\n",
       "</div>"
      ],
      "text/plain": [
       "      user_id  version  minutes_play  day_1_active  day_7_active\n",
       "0           1  control     19.143694         False         False\n",
       "1           2  control     39.973454          True          True\n",
       "2           3  control     32.829785         False         False\n",
       "3           4  control     14.937053         False         False\n",
       "4           5  control     24.213997         False         False\n",
       "...       ...      ...           ...           ...           ...\n",
       "1595     1596  control     27.154466         False         False\n",
       "1596     1597  control     46.414042          True          True\n",
       "1597     1598  control     41.523560          True          True\n",
       "1598     1599  control     23.981909         False         False\n",
       "1599     1600  control     17.843379         False         False\n",
       "\n",
       "[1600 rows x 5 columns]"
      ]
     },
     "execution_count": 18,
     "metadata": {},
     "output_type": "execute_result"
    }
   ],
   "source": [
    "# control data\n",
    "\n",
    "import pandas as pd\n",
    "raw_control = {'user_id':user_id_control,\n",
    "                 'version':control_status,\n",
    "               'minutes_play':minutes_control,\n",
    "               'day_1_active':day_1_control,\n",
    "               'day_7_active':day_1_control\n",
    "                }\n",
    "\n",
    "control_group = pd.DataFrame(data = raw_control)\n",
    "control_group"
   ]
  },
  {
   "cell_type": "code",
   "execution_count": 20,
   "id": "90f039bc",
   "metadata": {},
   "outputs": [
    {
     "data": {
      "text/html": [
       "<div>\n",
       "<style scoped>\n",
       "    .dataframe tbody tr th:only-of-type {\n",
       "        vertical-align: middle;\n",
       "    }\n",
       "\n",
       "    .dataframe tbody tr th {\n",
       "        vertical-align: top;\n",
       "    }\n",
       "\n",
       "    .dataframe thead th {\n",
       "        text-align: right;\n",
       "    }\n",
       "</style>\n",
       "<table border=\"1\" class=\"dataframe\">\n",
       "  <thead>\n",
       "    <tr style=\"text-align: right;\">\n",
       "      <th></th>\n",
       "      <th>user_id</th>\n",
       "      <th>version</th>\n",
       "      <th>minutes_play</th>\n",
       "      <th>day_1_active</th>\n",
       "      <th>day_7_active</th>\n",
       "    </tr>\n",
       "  </thead>\n",
       "  <tbody>\n",
       "    <tr>\n",
       "      <th>0</th>\n",
       "      <td>1601</td>\n",
       "      <td>treatment</td>\n",
       "      <td>20.143694</td>\n",
       "      <td>False</td>\n",
       "      <td>False</td>\n",
       "    </tr>\n",
       "    <tr>\n",
       "      <th>1</th>\n",
       "      <td>1602</td>\n",
       "      <td>treatment</td>\n",
       "      <td>40.973454</td>\n",
       "      <td>True</td>\n",
       "      <td>False</td>\n",
       "    </tr>\n",
       "    <tr>\n",
       "      <th>2</th>\n",
       "      <td>1603</td>\n",
       "      <td>treatment</td>\n",
       "      <td>33.829785</td>\n",
       "      <td>True</td>\n",
       "      <td>True</td>\n",
       "    </tr>\n",
       "    <tr>\n",
       "      <th>3</th>\n",
       "      <td>1604</td>\n",
       "      <td>treatment</td>\n",
       "      <td>15.937053</td>\n",
       "      <td>False</td>\n",
       "      <td>False</td>\n",
       "    </tr>\n",
       "    <tr>\n",
       "      <th>4</th>\n",
       "      <td>1605</td>\n",
       "      <td>treatment</td>\n",
       "      <td>25.213997</td>\n",
       "      <td>False</td>\n",
       "      <td>True</td>\n",
       "    </tr>\n",
       "    <tr>\n",
       "      <th>...</th>\n",
       "      <td>...</td>\n",
       "      <td>...</td>\n",
       "      <td>...</td>\n",
       "      <td>...</td>\n",
       "      <td>...</td>\n",
       "    </tr>\n",
       "    <tr>\n",
       "      <th>1744</th>\n",
       "      <td>3345</td>\n",
       "      <td>treatment</td>\n",
       "      <td>23.053563</td>\n",
       "      <td>False</td>\n",
       "      <td>False</td>\n",
       "    </tr>\n",
       "    <tr>\n",
       "      <th>1745</th>\n",
       "      <td>3346</td>\n",
       "      <td>treatment</td>\n",
       "      <td>21.755798</td>\n",
       "      <td>False</td>\n",
       "      <td>True</td>\n",
       "    </tr>\n",
       "    <tr>\n",
       "      <th>1746</th>\n",
       "      <td>3347</td>\n",
       "      <td>treatment</td>\n",
       "      <td>45.081771</td>\n",
       "      <td>True</td>\n",
       "      <td>True</td>\n",
       "    </tr>\n",
       "    <tr>\n",
       "      <th>1747</th>\n",
       "      <td>3348</td>\n",
       "      <td>treatment</td>\n",
       "      <td>37.187168</td>\n",
       "      <td>True</td>\n",
       "      <td>True</td>\n",
       "    </tr>\n",
       "    <tr>\n",
       "      <th>1748</th>\n",
       "      <td>3349</td>\n",
       "      <td>treatment</td>\n",
       "      <td>23.719221</td>\n",
       "      <td>False</td>\n",
       "      <td>True</td>\n",
       "    </tr>\n",
       "  </tbody>\n",
       "</table>\n",
       "<p>1749 rows × 5 columns</p>\n",
       "</div>"
      ],
      "text/plain": [
       "      user_id    version  minutes_play  day_1_active  day_7_active\n",
       "0        1601  treatment     20.143694         False         False\n",
       "1        1602  treatment     40.973454          True         False\n",
       "2        1603  treatment     33.829785          True          True\n",
       "3        1604  treatment     15.937053         False         False\n",
       "4        1605  treatment     25.213997         False          True\n",
       "...       ...        ...           ...           ...           ...\n",
       "1744     3345  treatment     23.053563         False         False\n",
       "1745     3346  treatment     21.755798         False          True\n",
       "1746     3347  treatment     45.081771          True          True\n",
       "1747     3348  treatment     37.187168          True          True\n",
       "1748     3349  treatment     23.719221         False          True\n",
       "\n",
       "[1749 rows x 5 columns]"
      ]
     },
     "execution_count": 20,
     "metadata": {},
     "output_type": "execute_result"
    }
   ],
   "source": [
    "# treatment data \n",
    "raw_treatment = {'user_id':user_id_treatment,\n",
    "                 'version':treatment_status,\n",
    "               'minutes_play':minutes_treat,\n",
    "               'day_1_active':day_1_treatment,\n",
    "               'day_7_active':day_7_treatment\n",
    "                }\n",
    "\n",
    "treatment_group = pd.DataFrame(data = raw_treatment)\n",
    "treatment_group"
   ]
  },
  {
   "cell_type": "code",
   "execution_count": 21,
   "id": "5627e174",
   "metadata": {},
   "outputs": [
    {
     "name": "stderr",
     "output_type": "stream",
     "text": [
      "C:\\Users\\aruna\\AppData\\Local\\Temp\\ipykernel_11376\\1694145550.py:2: FutureWarning: The frame.append method is deprecated and will be removed from pandas in a future version. Use pandas.concat instead.\n",
      "  two_datasets = control_group.append(treatment_group)\n"
     ]
    }
   ],
   "source": [
    "# combine these two datasets\n",
    "two_datasets = control_group.append(treatment_group)\n",
    "\n",
    "# randomize the orders using df.sample(frac=1)\n",
    "# The frac keyword argument: specifies the fraction of rows to return in the random sample\n",
    "# so frac=1 means return all rows (in random order)\n",
    "\n",
    "final_data = two_datasets.sample(frac=1)"
   ]
  },
  {
   "cell_type": "code",
   "execution_count": 22,
   "id": "45e761dd",
   "metadata": {},
   "outputs": [
    {
     "data": {
      "text/html": [
       "<div>\n",
       "<style scoped>\n",
       "    .dataframe tbody tr th:only-of-type {\n",
       "        vertical-align: middle;\n",
       "    }\n",
       "\n",
       "    .dataframe tbody tr th {\n",
       "        vertical-align: top;\n",
       "    }\n",
       "\n",
       "    .dataframe thead th {\n",
       "        text-align: right;\n",
       "    }\n",
       "</style>\n",
       "<table border=\"1\" class=\"dataframe\">\n",
       "  <thead>\n",
       "    <tr style=\"text-align: right;\">\n",
       "      <th></th>\n",
       "      <th>user_id</th>\n",
       "      <th>version</th>\n",
       "      <th>minutes_play</th>\n",
       "      <th>day_1_active</th>\n",
       "      <th>day_7_active</th>\n",
       "    </tr>\n",
       "  </thead>\n",
       "  <tbody>\n",
       "    <tr>\n",
       "      <th>30</th>\n",
       "      <td>1631</td>\n",
       "      <td>treatment</td>\n",
       "      <td>28.443806</td>\n",
       "      <td>True</td>\n",
       "      <td>False</td>\n",
       "    </tr>\n",
       "    <tr>\n",
       "      <th>1097</th>\n",
       "      <td>1098</td>\n",
       "      <td>control</td>\n",
       "      <td>43.093510</td>\n",
       "      <td>False</td>\n",
       "      <td>False</td>\n",
       "    </tr>\n",
       "    <tr>\n",
       "      <th>1313</th>\n",
       "      <td>2914</td>\n",
       "      <td>treatment</td>\n",
       "      <td>36.196111</td>\n",
       "      <td>False</td>\n",
       "      <td>False</td>\n",
       "    </tr>\n",
       "    <tr>\n",
       "      <th>791</th>\n",
       "      <td>792</td>\n",
       "      <td>control</td>\n",
       "      <td>37.740000</td>\n",
       "      <td>False</td>\n",
       "      <td>False</td>\n",
       "    </tr>\n",
       "    <tr>\n",
       "      <th>632</th>\n",
       "      <td>633</td>\n",
       "      <td>control</td>\n",
       "      <td>9.476016</td>\n",
       "      <td>False</td>\n",
       "      <td>False</td>\n",
       "    </tr>\n",
       "  </tbody>\n",
       "</table>\n",
       "</div>"
      ],
      "text/plain": [
       "      user_id    version  minutes_play  day_1_active  day_7_active\n",
       "30       1631  treatment     28.443806          True         False\n",
       "1097     1098    control     43.093510         False         False\n",
       "1313     2914  treatment     36.196111         False         False\n",
       "791       792    control     37.740000         False         False\n",
       "632       633    control      9.476016         False         False"
      ]
     },
     "execution_count": 22,
     "metadata": {},
     "output_type": "execute_result"
    }
   ],
   "source": [
    "final_data.head()"
   ]
  },
  {
   "cell_type": "markdown",
   "id": "2675b107",
   "metadata": {},
   "source": [
    "**Best Practices**\n",
    "\n",
    "- Don’t end your A/B tests prematurely after witnessing some initial positive effects.\n",
    "- No early stopping!\n",
    "- No p-hacking!\n",
    "- Instead, end it when you have reached the minimum sample size."
   ]
  },
  {
   "cell_type": "markdown",
   "id": "0c6aa306",
   "metadata": {},
   "source": [
    "### Stage 3 After-Test: Data Analysis"
   ]
  },
  {
   "cell_type": "markdown",
   "id": "bf3367af",
   "metadata": {},
   "source": [
    "After collecting enough data, we move to the last stage of experiments, which is data analysis. As a first step, it would be beneficial to check how many users fell into each variant."
   ]
  },
  {
   "cell_type": "code",
   "execution_count": 24,
   "id": "995aa01c",
   "metadata": {},
   "outputs": [
    {
     "data": {
      "text/plain": [
       "version\n",
       "control      1600\n",
       "treatment    1749\n",
       "Name: user_id, dtype: int64"
      ]
     },
     "execution_count": 24,
     "metadata": {},
     "output_type": "execute_result"
    }
   ],
   "source": [
    "# calculate the number of users in each version\n",
    "final_data.groupby('version')['user_id'].count()"
   ]
  },
  {
   "cell_type": "markdown",
   "id": "e7b62eda",
   "metadata": {},
   "source": [
    "It appears to be a suspicious variant split: 1600 control units but 1749 treatment units. The treatment assignment process looks suspicious at face value as more users are assigned to the treatment than the control.\n",
    "\n",
    "To formally check for the SRM, we conduct a chi-square test between the actual split and the expected split of the treated and control units"
   ]
  },
  {
   "cell_type": "code",
   "execution_count": 35,
   "id": "352f5aa0",
   "metadata": {},
   "outputs": [
    {
     "data": {
      "text/plain": [
       "Power_divergenceResult(statistic=6.629143027769484, pvalue=0.01003235193083798)"
      ]
     },
     "execution_count": 35,
     "metadata": {},
     "output_type": "execute_result"
    }
   ],
   "source": [
    "from scipy.stats import chisquare \n",
    "\n",
    "chisquare([1600,1749], f_exp = [1674.5,1674.5])"
   ]
  },
  {
   "cell_type": "markdown",
   "id": "7636e464",
   "metadata": {},
   "source": [
    "We set the alpha level at 0.001 to test SRM. Since the p-value is 0.01, we fail to reject the null hypothesis and conclude there is no evidence of SRM. In contrast to our intuition, statistical tests conclude that the treatment assignment works as expected."
   ]
  },
  {
   "cell_type": "markdown",
   "id": "c43e0651",
   "metadata": {},
   "source": [
    "**Plot the Distribution of Minutes Played for Each Group**\n",
    "\n",
    "Since the variable minutes_play is a float, we have to round it up to the nearest integers before grouping."
   ]
  },
  {
   "cell_type": "code",
   "execution_count": 39,
   "id": "26ab37e1",
   "metadata": {},
   "outputs": [
    {
     "data": {
      "text/plain": [
       "Text(0, 0.5, 'User Count')"
      ]
     },
     "execution_count": 39,
     "metadata": {},
     "output_type": "execute_result"
    },
    {
     "data": {
      "image/png": "[encoded data removed]",
      "text/plain": [
       "<Figure size 432x288 with 1 Axes>"
      ]
     },
     "metadata": {
      "needs_background": "light"
     },
     "output_type": "display_data"
    }
   ],
   "source": [
    "%matplotlib inline\n",
    "\n",
    "final_data['minutes_play_integers'] = round(final_data['minutes_play'])\n",
    "plot_df = final_data.groupby('minutes_play_integers')['user_id'].count()\n",
    "\n",
    "# Plot the distribution of players that played 0 to 50 minutes\n",
    "\n",
    "ax = plot_df.head(n = 50).plot(x = 'minutes_play_integers', y = 'user_id', kind = 'hist')\n",
    "ax.set_xlabel('Duration of Video Played in Minutes')\n",
    "ax.set_ylabel('User Count')"
   ]
  },
  {
   "cell_type": "markdown",
   "id": "fe936607",
   "metadata": {},
   "source": [
    "**Metric 1: 1-day retention by AB-Group**"
   ]
  },
  {
   "cell_type": "code",
   "execution_count": 41,
   "id": "9af7915b",
   "metadata": {},
   "outputs": [
    {
     "data": {
      "text/plain": [
       "0.3248730964467005"
      ]
     },
     "execution_count": 41,
     "metadata": {},
     "output_type": "execute_result"
    }
   ],
   "source": [
    "# 1-day retention\n",
    "\n",
    "final_data['day_1_active'].mean()\n",
    "0.3248730964467005"
   ]
  },
  {
   "cell_type": "markdown",
   "id": "08258dad",
   "metadata": {},
   "source": [
    "After 1 day, the overall active user rate, on average, hovers around 32.5%."
   ]
  },
  {
   "cell_type": "code",
   "execution_count": 43,
   "id": "e9b41905",
   "metadata": {},
   "outputs": [
    {
     "data": {
      "text/plain": [
       "version\n",
       "control      0.293125\n",
       "treatment    0.348771\n",
       "Name: day_1_active, dtype: float64"
      ]
     },
     "execution_count": 43,
     "metadata": {},
     "output_type": "execute_result"
    }
   ],
   "source": [
    "# 1-day retention by group\n",
    "final_data.groupby('version')['day_1_active'].mean()"
   ]
  },
  {
   "cell_type": "markdown",
   "id": "ca96e8f5",
   "metadata": {},
   "source": [
    "After taking a closer look, the control group has 29.7% active users, and the treatment has 35%"
   ]
  },
  {
   "cell_type": "markdown",
   "id": "82a3e966",
   "metadata": {},
   "source": [
    "Naturally, we are interested in the following questions:\n",
    "\n",
    "- Is the higher retention rate in the treatment group statistically significant?\n",
    "\n",
    "- What is its variability?\n",
    "\n",
    "- If we repeat the process for 10,000 times, how often do we observe at least as extreme values?"
   ]
  },
  {
   "cell_type": "markdown",
   "id": "e45bf1ff",
   "metadata": {},
   "source": [
    "Bootstrap can answer these questions. It is a resample strategy that repeatedly samples from the original data with replacements. According to the Central Limit Theorem, the distribution of the resample means approximately normally distributed"
   ]
  },
  {
   "cell_type": "code",
   "execution_count": 44,
   "id": "1faadeeb",
   "metadata": {},
   "outputs": [
    {
     "data": {
      "text/plain": [
       "<AxesSubplot:ylabel='Density'>"
      ]
     },
     "execution_count": 44,
     "metadata": {},
     "output_type": "execute_result"
    },
    {
     "data": {
      "image/png": "[encoded data removed]",
      "text/plain": [
       "<Figure size 432x288 with 1 Axes>"
      ]
     },
     "metadata": {
      "needs_background": "light"
     },
     "output_type": "display_data"
    }
   ],
   "source": [
    "# solution: bootstrap\n",
    "boot_means = []\n",
    "\n",
    "# run the simulation for 10k times \n",
    "for i in range(10000):\n",
    "    #frac=1 means randomize the order of all rows \n",
    "    boot_sample = final_data.sample(frac=1,replace=True).groupby('version')['day_1_active'].mean()\n",
    "    boot_means.append(boot_sample)\n",
    "\n",
    "# a Pandas DataFrame\n",
    "boot_means = pd.DataFrame(boot_means)\n",
    "\n",
    "# kernel density estimate\n",
    "boot_means.plot(kind = 'kde')"
   ]
  },
  {
   "cell_type": "code",
   "execution_count": 45,
   "id": "9e7f8f6d",
   "metadata": {},
   "outputs": [],
   "source": [
    "# create a new column, diff, which is the difference between the two variants, scaled by the control group\n",
    "boot_means['diff'] = (boot_means['treatment'] - boot_means['control'])/boot_means['control']*100"
   ]
  },
  {
   "cell_type": "code",
   "execution_count": 46,
   "id": "0b5cfb85",
   "metadata": {},
   "outputs": [
    {
     "data": {
      "text/plain": [
       "day_1_active    17.970394\n",
       "day_1_active    16.338012\n",
       "day_1_active    21.344125\n",
       "day_1_active    29.290652\n",
       "day_1_active    28.682724\n",
       "                  ...    \n",
       "day_1_active    17.016447\n",
       "day_1_active    17.300397\n",
       "day_1_active    19.224083\n",
       "day_1_active    20.849796\n",
       "day_1_active    18.693185\n",
       "Name: diff, Length: 10000, dtype: float64"
      ]
     },
     "execution_count": 46,
     "metadata": {},
     "output_type": "execute_result"
    }
   ],
   "source": [
    "boot_means['diff']"
   ]
  },
  {
   "cell_type": "code",
   "execution_count": 47,
   "id": "5b9129b9",
   "metadata": {},
   "outputs": [
    {
     "data": {
      "text/plain": [
       "Text(0.5, 0, '% diff in means')"
      ]
     },
     "execution_count": 47,
     "metadata": {},
     "output_type": "execute_result"
    },
    {
     "data": {
      "image/png": "[encoded data removed]",
      "text/plain": [
       "<Figure size 432x288 with 1 Axes>"
      ]
     },
     "metadata": {
      "needs_background": "light"
     },
     "output_type": "display_data"
    }
   ],
   "source": [
    "# plot the bootstrap sample difference \n",
    "ax = boot_means['diff'].plot(kind = 'kde')\n",
    "ax.set_xlabel(\"% diff in means\")"
   ]
  },
  {
   "cell_type": "code",
   "execution_count": 50,
   "id": "a2e660c0",
   "metadata": {},
   "outputs": [
    {
     "data": {
      "text/plain": [
       "0.9998"
      ]
     },
     "execution_count": 50,
     "metadata": {},
     "output_type": "execute_result"
    }
   ],
   "source": [
    "boot_means[boot_means['diff'] > 0]\n",
    "\n",
    "# p value \n",
    "p = (boot_means['diff'] > 0).sum() / len(boot_means)\n",
    "p"
   ]
  },
  {
   "cell_type": "markdown",
   "id": "d22c677e",
   "metadata": {},
   "source": [
    "After bootstrapping 10,000 times, the treatment has a higher 1-day retention rate 99.98% of the time.\n",
    "The test result is consistent with our original simulated data."
   ]
  },
  {
   "cell_type": "markdown",
   "id": "83b1aab5",
   "metadata": {},
   "source": [
    "**Metric 7: 7-day retention by AB-Group**"
   ]
  },
  {
   "cell_type": "code",
   "execution_count": 57,
   "id": "3670cecf",
   "metadata": {},
   "outputs": [],
   "source": [
    "boot_7d = []\n",
    "\n",
    "for i in range(10000):\n",
    "    #set frac=1 --> sample all rows\n",
    "    boot_mean = final_data.sample(frac=1,replace=True).groupby('version')['day_7_active'].mean() \n",
    "    boot_7d.append(boot_mean)\n",
    "    \n",
    "boot_7d = pd.DataFrame(boot_7d)\n",
    "\n",
    "boot_7d['diff'] = (boot_7d['treatment'] - boot_7d['control'])/boot_7d['control'] *100"
   ]
  },
  {
   "cell_type": "code",
   "execution_count": 58,
   "id": "1aa6b9a7",
   "metadata": {},
   "outputs": [
    {
     "data": {
      "text/plain": [
       "Text(0.5, 0, '% diff in means')"
      ]
     },
     "execution_count": 58,
     "metadata": {},
     "output_type": "execute_result"
    },
    {
     "data": {
      "image/png": "[encoded data removed]",
      "text/plain": [
       "<Figure size 432x288 with 1 Axes>"
      ]
     },
     "metadata": {
      "needs_background": "light"
     },
     "output_type": "display_data"
    }
   ],
   "source": [
    "# Ploting the bootstrap % difference\n",
    "\n",
    "ax = boot_7d['diff'].plot(kind = 'kde')\n",
    "ax.set_xlabel(\"% diff in means\")"
   ]
  },
  {
   "cell_type": "code",
   "execution_count": 59,
   "id": "3bc25a73",
   "metadata": {},
   "outputs": [
    {
     "data": {
      "text/plain": [
       "0.8826"
      ]
     },
     "execution_count": 59,
     "metadata": {},
     "output_type": "execute_result"
    }
   ],
   "source": [
    "# Calculating the probability that 7-day retention is greater when the gate is at level 30\n",
    "\n",
    "p = (boot_7d['diff']>0).sum()/len(boot_7d)\n",
    "1-p"
   ]
  },
  {
   "cell_type": "markdown",
   "id": "a8901013",
   "metadata": {},
   "source": [
    "On the 7-day metric, the control obviously has a better user retention rate 88.26% of the time, also consistent with the original data."
   ]
  },
  {
   "cell_type": "markdown",
   "id": "dc96e280",
   "metadata": {},
   "source": [
    "The reversed pattern between 1-day and 7-day metrics supports the novelty effect as users become activated and intrigued by the new design, not because the change actually improves engagement. The novelty effect is popular in consumer-side A/B tests."
   ]
  },
  {
   "cell_type": "markdown",
   "id": "9ef85337",
   "metadata": {},
   "source": [
    "**Best Practices**\n",
    "\n",
    "- SRM is a real concern. We apply a chi-square test to formally test for the SRM. If the p-value is smaller than the threshold (α = 0.001), the randomization process does not work as expected\n",
    "\n",
    "- SRM introduces selection bias that invalidates any test results\n",
    "\n",
    "- Three fundamental statistical concepts to master: SRM, Chi-Square Test, and Bootstrap\n",
    "\n",
    "- Compare short-term and long-term metrics to evaluate the novelty effect"
   ]
  },
  {
   "cell_type": "markdown",
   "id": "40595e9f",
   "metadata": {},
   "source": [
    "**Conclusion**\n",
    "\n",
    "An A/B test requires extensive statistical knowledge and careful attention to detail. There are thousands of ways of ruining your test results but only one way to do it correctly. Follow the best practices described before-, during-, and after- the experiments and set up your experiments for success."
   ]
  }
 ],
 "metadata": {
  "kernelspec": {
   "display_name": "Python 3 (ipykernel)",
   "language": "python",
   "name": "python3"
  },
  "language_info": {
   "codemirror_mode": {
    "name": "ipython",
    "version": 3
   },
   "file_extension": ".py",
   "mimetype": "text/x-python",
   "name": "python",
   "nbconvert_exporter": "python",
   "pygments_lexer": "ipython3",
   "version": "3.9.12"
  }
 },
 "nbformat": 4,
 "nbformat_minor": 5
}
